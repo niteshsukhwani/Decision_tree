{
 "cells": [
  {
   "cell_type": "markdown",
   "metadata": {},
   "source": [
    "# Decision Tree classifier\n",
    "## Created By :Nitesh Sukhwani"
   ]
  },
  {
   "cell_type": "code",
   "execution_count": 33,
   "metadata": {},
   "outputs": [],
   "source": [
    "'''Importing Required Libraries'''\n",
    "\n",
    "import numpy as np\n",
    "import pandas as pd\n",
    "import math"
   ]
  },
  {
   "cell_type": "code",
   "execution_count": 34,
   "metadata": {},
   "outputs": [],
   "source": [
    "'''Loading the dataset'''\n",
    "data = pd.read_csv('weather.csv')"
   ]
  },
  {
   "cell_type": "code",
   "execution_count": 35,
   "metadata": {},
   "outputs": [
    {
     "data": {
      "text/html": [
       "<div>\n",
       "<style scoped>\n",
       "    .dataframe tbody tr th:only-of-type {\n",
       "        vertical-align: middle;\n",
       "    }\n",
       "\n",
       "    .dataframe tbody tr th {\n",
       "        vertical-align: top;\n",
       "    }\n",
       "\n",
       "    .dataframe thead th {\n",
       "        text-align: right;\n",
       "    }\n",
       "</style>\n",
       "<table border=\"1\" class=\"dataframe\">\n",
       "  <thead>\n",
       "    <tr style=\"text-align: right;\">\n",
       "      <th></th>\n",
       "      <th>outlook</th>\n",
       "      <th>temp</th>\n",
       "      <th>humidity</th>\n",
       "      <th>windy</th>\n",
       "      <th>play</th>\n",
       "    </tr>\n",
       "  </thead>\n",
       "  <tbody>\n",
       "    <tr>\n",
       "      <th>1</th>\n",
       "      <td>sunny</td>\n",
       "      <td>hot</td>\n",
       "      <td>high</td>\n",
       "      <td>False</td>\n",
       "      <td>no</td>\n",
       "    </tr>\n",
       "    <tr>\n",
       "      <th>3</th>\n",
       "      <td>sunny</td>\n",
       "      <td>hot</td>\n",
       "      <td>high</td>\n",
       "      <td>True</td>\n",
       "      <td>no</td>\n",
       "    </tr>\n",
       "    <tr>\n",
       "      <th>5</th>\n",
       "      <td>overcast</td>\n",
       "      <td>hot</td>\n",
       "      <td>high</td>\n",
       "      <td>False</td>\n",
       "      <td>yes</td>\n",
       "    </tr>\n",
       "    <tr>\n",
       "      <th>7</th>\n",
       "      <td>rainy</td>\n",
       "      <td>mild</td>\n",
       "      <td>high</td>\n",
       "      <td>False</td>\n",
       "      <td>yes</td>\n",
       "    </tr>\n",
       "    <tr>\n",
       "      <th>9</th>\n",
       "      <td>rainy</td>\n",
       "      <td>cool</td>\n",
       "      <td>normal</td>\n",
       "      <td>False</td>\n",
       "      <td>yes</td>\n",
       "    </tr>\n",
       "  </tbody>\n",
       "</table>\n",
       "</div>"
      ],
      "text/plain": [
       "    outlook  temp humidity  windy play\n",
       "1     sunny   hot     high  False   no\n",
       "3     sunny   hot     high   True   no\n",
       "5  overcast   hot     high  False  yes\n",
       "7     rainy  mild     high  False  yes\n",
       "9     rainy  cool   normal  False  yes"
      ]
     },
     "execution_count": 35,
     "metadata": {},
     "output_type": "execute_result"
    }
   ],
   "source": [
    "'''Checking the Data'''\n",
    "data.dropna(inplace=True)\n",
    "data.head()"
   ]
  },
  {
   "cell_type": "code",
   "execution_count": 36,
   "metadata": {},
   "outputs": [],
   "source": [
    "'''Calculating Entropy for Entire data\n",
    "data = data for which entropy need to be calculated\n",
    "target = target variable based on which entropy need to calculated\n",
    "entropy = entropy of data'''\n",
    "\n",
    "def Entropy(data,target='play'):\n",
    "    entropy = 0\n",
    "    val = data[target].unique()\n",
    "    for value in val:\n",
    "        fraction = data[target].value_counts()[value]/len(data)\n",
    "        entropy+=(-1)*fraction*math.log(fraction,2)\n",
    "    return entropy"
   ]
  },
  {
   "cell_type": "code",
   "execution_count": 37,
   "metadata": {},
   "outputs": [],
   "source": [
    "'''Calculating Gini for Entire data\n",
    "data = data for which entropy need to be calculated\n",
    "target = target variable based on which entropy need to calculated\n",
    "entropy = entropy of data'''\n",
    "\n",
    "def Gini(data,target='play'):\n",
    "    gini = 0\n",
    "    val = data[target].unique()\n",
    "    for value in val:\n",
    "        fraction = data[target].value_counts()[value]/len(data)\n",
    "        gini+=(fraction**2)\n",
    "    return (1-gini)"
   ]
  },
  {
   "cell_type": "code",
   "execution_count": 38,
   "metadata": {},
   "outputs": [],
   "source": [
    "'''Calculating Entropy of every attribute and find the best spillint attribute\n",
    "    data : data for which best spillting attribute need to find\n",
    "    col : columns of dataset\n",
    "    target : target variable\n",
    "    mname : best splitting attribute\n",
    "'''\n",
    "\n",
    "def Entropy_all(data,col,target='play'):\n",
    "    mval = 0\n",
    "    tot_entropy = Entropy(data,target)\n",
    "    for cname in col:\n",
    "        val = data[cname].unique()\n",
    "        entropy=0\n",
    "        for value in val:\n",
    "            tmp = data[data[cname]==value]\n",
    "            entropy += Entropy(tmp)*len(tmp)/len(data)\n",
    "        info_gain = tot_entropy-entropy\n",
    "        if info_gain>mval:\n",
    "            mname = cname\n",
    "            mval=info_gain\n",
    "       # print('entropy of',cname ,'=',a)\n",
    "    return mname"
   ]
  },
  {
   "cell_type": "code",
   "execution_count": 39,
   "metadata": {},
   "outputs": [],
   "source": [
    "'''Calculating Gini index of every attribute and find the best spillint attribute\n",
    "    data : data for which best spillting attribute need to find\n",
    "    col : columns of dataset\n",
    "    target : target variable\n",
    "    mname : best splitting attribute\n",
    "'''\n",
    "\n",
    "def Gini_all(data,col,target='play'):\n",
    "    mval = 0\n",
    "    tot_gini = Gini(data,target)\n",
    "    for cname in col:\n",
    "        val = data[cname].unique()\n",
    "        gini=0\n",
    "        for value in val:\n",
    "            tmp = data[data[cname]==value]\n",
    "            gini += Gini(tmp)*len(tmp)/len(data)\n",
    "        info_gain = tot_gini-gini\n",
    "        if info_gain>mval:\n",
    "            mname = cname\n",
    "            mval=info_gain\n",
    "       # print('entropy of',cname ,'=',a)\n",
    "    return mname"
   ]
  },
  {
   "cell_type": "code",
   "execution_count": 40,
   "metadata": {},
   "outputs": [],
   "source": [
    "'''Finding subset of data after splitting \n",
    "    data = data which get splitted\n",
    "    mname = attribute name based on which splitting has to done\n",
    "    value = splitting attribute value'''\n",
    "\n",
    "def sub_data(data,mname,value):\n",
    "    data = data[data[mname]==value].reset_index(drop=True)\n",
    "    return data"
   ]
  },
  {
   "cell_type": "code",
   "execution_count": 41,
   "metadata": {},
   "outputs": [],
   "source": [
    "'''Give decision tree classifier based on data\n",
    "    data = data which need to get trained\n",
    "    target =  target variable\n",
    "    tree = output tree in the form of dictionary\n",
    "    method = for split which method to used gini index or entropy'''\n",
    "\n",
    "\n",
    "def decision_tree(data,target,tree=None,method='Entropy'):\n",
    "    col = list(data.columns)\n",
    "    col.remove(target)\n",
    "    if method=='gini' or method=='Gini':\n",
    "        root = Gini_all(data,col,target)\n",
    "    else:\n",
    "        root = Entropy_all(data,col,target)\n",
    "    Values = np.unique(data[root])\n",
    "    if tree is None:\n",
    "        tree={}\n",
    "        tree[root] = {}\n",
    "    for val in Values:\n",
    "        SubData = sub_data(data,root,val)\n",
    "        val2,counts = np.unique(SubData[target],return_counts=True) \n",
    "        if len(counts)==1:\n",
    "            tree[root][val] = val2[0]                                                    \n",
    "        else:\n",
    "            tree[root][val] = decision_tree(SubData,target)\n",
    "    return tree"
   ]
  },
  {
   "cell_type": "code",
   "execution_count": 42,
   "metadata": {},
   "outputs": [],
   "source": [
    "'''Give prediction on single data\n",
    "d = instance of the data\n",
    "tree = the tree made from build tree function\n",
    "output : print the predicted value '''\n",
    "\n",
    "def single_pred(d,tree):\n",
    "    for key in tree:\n",
    "        key = str(key)\n",
    "        val = d[key]\n",
    "        tree = tree[key][val]\n",
    "        #print(tree,key,val)\n",
    "        if type(tree)!=dict:\n",
    "            pred = str(tree)\n",
    "            #print(output)\n",
    "            return pred\n",
    "        pred = single_pred(d,tree)\n",
    "        return pred\n",
    "\n",
    "'''give prediction on entire data\n",
    "data: data on which prediction need to found\n",
    "tree = tree build using decision tree\n",
    "output :  print the prediction as output\n",
    "'''\n",
    "\n",
    "def predict(data,tree):\n",
    "    n = len(data)\n",
    "    output = []\n",
    "    for i in range(n):\n",
    "        tree2 = tree\n",
    "        d = data.iloc[i]\n",
    "        res = single_pred(d,tree2)\n",
    "        output.append(res)\n",
    "    return output"
   ]
  },
  {
   "cell_type": "code",
   "execution_count": 43,
   "metadata": {},
   "outputs": [],
   "source": [
    "tree = decision_tree(data,'play',method='gini')"
   ]
  },
  {
   "cell_type": "code",
   "execution_count": 44,
   "metadata": {},
   "outputs": [
    {
     "data": {
      "text/plain": [
       "['no',\n",
       " 'no',\n",
       " 'yes',\n",
       " 'yes',\n",
       " 'yes',\n",
       " 'no',\n",
       " 'yes',\n",
       " 'no',\n",
       " 'yes',\n",
       " 'yes',\n",
       " 'yes',\n",
       " 'yes',\n",
       " 'yes',\n",
       " 'no']"
      ]
     },
     "execution_count": 44,
     "metadata": {},
     "output_type": "execute_result"
    }
   ],
   "source": [
    "x = predict(data,tree)\n",
    "x"
   ]
  },
  {
   "cell_type": "code",
   "execution_count": null,
   "metadata": {},
   "outputs": [],
   "source": []
  }
 ],
 "metadata": {
  "kernelspec": {
   "display_name": "Python 3",
   "language": "python",
   "name": "python3"
  },
  "language_info": {
   "codemirror_mode": {
    "name": "ipython",
    "version": 3
   },
   "file_extension": ".py",
   "mimetype": "text/x-python",
   "name": "python",
   "nbconvert_exporter": "python",
   "pygments_lexer": "ipython3",
   "version": "3.6.5"
  }
 },
 "nbformat": 4,
 "nbformat_minor": 2
}
